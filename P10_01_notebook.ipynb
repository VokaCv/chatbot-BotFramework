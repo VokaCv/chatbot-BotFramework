{
 "cells": [
  {
   "cell_type": "markdown",
   "metadata": {},
   "source": [
    "# P10 - CHATBOT"
   ]
  },
  {
   "cell_type": "code",
   "execution_count": 1,
   "metadata": {},
   "outputs": [
    {
     "data": {
      "text/plain": [
       "True"
      ]
     },
     "execution_count": 1,
     "metadata": {},
     "output_type": "execute_result"
    }
   ],
   "source": [
    "from p10_00_helper_func import azure_helper\n",
    "from p10_01_luis.utils import *\n",
    "\n",
    "from azure.cognitiveservices.language.luis.authoring import LUISAuthoringClient\n",
    "from azure.cognitiveservices.language.luis.authoring.models import ApplicationCreateObject\n",
    "from azure.cognitiveservices.language.luis.runtime import LUISRuntimeClient\n",
    "from msrest.authentication import CognitiveServicesCredentials\n",
    "from functools import reduce\n",
    "\n",
    "import os, json, time, uuid\n",
    "\n",
    "ws = azure_helper.get_ws()\n",
    "\n",
    "import dotenv\n",
    "dotenv.load_dotenv()"
   ]
  },
  {
   "cell_type": "code",
   "execution_count": 6,
   "metadata": {},
   "outputs": [],
   "source": [
    "get_luis_env = LuisEnv()\n",
    "authoringKey = get_luis_env.LUIS_AUTH_KEY\n",
    "authoringEndpoint = get_luis_env.LUIS_AUTH_ENDPOINT"
   ]
  },
  {
   "cell_type": "markdown",
   "metadata": {},
   "source": [
    "### Authentifier le client\n",
    "Créez un objet CognitiveServicesCredentials avec votre clé et utilisez-le avec votre point de terminaison pour créer un objet LUISAuthoringClient."
   ]
  },
  {
   "cell_type": "code",
   "execution_count": 7,
   "metadata": {},
   "outputs": [],
   "source": [
    "client = LUISAuthoringClient(authoringEndpoint, CognitiveServicesCredentials(authoringKey))"
   ]
  },
  {
   "cell_type": "markdown",
   "metadata": {},
   "source": [
    "# 1. Créer une application LUIS\n",
    "\n",
    "<center>Une application LUIS stocke le modèle de traitement en langage naturel contenant \n",
    "\n",
    "    - les intentions, \n",
    "    - les entités et \n",
    "    - les exemples d'énoncés.\n",
    "</center>\n",
    "\n",
    "Créez une méthode add pour l’objet AppsOperation afin de créer l’application. Le nom et la culture de la langue sont des propriétés obligatoires."
   ]
  },
  {
   "cell_type": "code",
   "execution_count": 8,
   "metadata": {},
   "outputs": [
    {
     "name": "stdout",
     "output_type": "stream",
     "text": [
      "LUIS app ID {'additional_properties': {'ownerEmail': None, 'tokenizerVersion': '1.0.0'}, 'id': 'cfde1d4c-2cf0-437c-98b9-cdfb6abdbecb', 'name': 'p10app', 'description': '', 'culture': 'en-us', 'usage_scenario': '', 'domain': '', 'versions_count': 2, 'created_date_time': '2022-02-10T14:03:40Z', 'endpoints': {'STAGING': {'versionId': '1.1', 'directVersionPublish': False, 'endpointUrl': 'https://westeurope.api.cognitive.microsoft.com/luis/v2.0/apps/cfde1d4c-2cf0-437c-98b9-cdfb6abdbecb', 'isStaging': True, 'assignedEndpointKey': None, 'region': None, 'endpointRegion': 'westeurope', 'publishedDateTime': '2022-02-15T07:17:16Z', 'failedRegions': None}, 'PRODUCTION': {'versionId': '1.1', 'directVersionPublish': False, 'endpointUrl': 'https://westeurope.api.cognitive.microsoft.com/luis/v2.0/apps/cfde1d4c-2cf0-437c-98b9-cdfb6abdbecb', 'isStaging': False, 'assignedEndpointKey': None, 'region': None, 'endpointRegion': 'westeurope', 'publishedDateTime': '2022-02-16T10:44:55Z', 'failedRegions': None}}, 'endpoint_hits_count': 92, 'active_version': '1.1'}\n"
     ]
    }
   ],
   "source": [
    "# define app basics\n",
    "appName = 'p10app'\n",
    "culture = 'en-us' #the language bot understands\n",
    "versionId = '1.0'\n",
    "\n",
    "try:\n",
    "    # create app (will throw error if it exists, in that case get the existing)\n",
    "    appDefinition = ApplicationCreateObject(\n",
    "            name=appName, \n",
    "            initial_version_id=versionId, \n",
    "            culture='en-us')\n",
    "            \n",
    "    app_id = client.apps.add(appDefinition)\n",
    "except:\n",
    "    # get the existing\n",
    "    app_id = client.apps.get(get_luis_env.LUIS_APP_ID)\n",
    "\n",
    "# get app id - necessary for all other changes\n",
    "print(\"LUIS app ID {}\".format(app_id))"
   ]
  },
  {
   "cell_type": "markdown",
   "metadata": {},
   "source": [
    "### 1.1. Créer une intention pour l’application\n",
    "\n",
    "<center> <i>L’objet principal dans un modèle d’application LUIS est l’intention</i></center>\n",
    "\n",
    "[more here](https://github.com/MicrosoftDocs/azure-docs/blob/main/articles/cognitive-services/LUIS/concepts/intents.md)\n",
    "\n",
    "    !!! All applications come with the predefined intent, \"None\", which is the fallback intent. The None intent is a required intent and can't be deleted or renamed. Fill it with utterances that are outside of your domain. The None intent is the fallback intent, and should have 10% of the total utterances. It is important in every app, because it’s used to teach LUIS utterances that are not important in the app domain (subject area). If you do not add any utterances for the None intent, LUIS forces an utterance that is outside the domain into one of the domain intents. This will skew the prediction scores by teaching LUIS the wrong intent for the utterance.\n",
    "\n",
    "\n",
    "L’intention s’aligne sur un regroupement d’intentions d’énoncés utilisateur. Un utilisateur peut poser une question ou émettre un énoncé en souhaitant obtenir une réponse prévue particulière d’un bot (ou d’une autre application cliente). Réserver un billet d’avion, demander quelle est la météo dans une ville de destination et demander des informations de contact pour un service client sont des exemples d’intentions.\n",
    "\n",
    "Utilisez la méthode model.add_intent avec le nom de l’intention unique, puis transmettez l’ID de l’application, l’ID de version et le nom de la nouvelle intention.\n",
    "\n",
    "La valeur intentName est codée en dur dans OrderPizzaIntent dans le cadre des variables de la section Créer des variables pour l'application."
   ]
  },
  {
   "cell_type": "code",
   "execution_count": 9,
   "metadata": {},
   "outputs": [],
   "source": [
    "intentName = \"ReserverVoyage\"\n",
    "\n",
    "existing_intents = client.model.list_intents(get_luis_env.LUIS_APP_ID, versionId)\n",
    "\n",
    "already_exists = True\n",
    "for i in existing_intents:\n",
    "    if intentName == i.name:\n",
    "        already_exists = True\n",
    "\n",
    "if already_exists == False:\n",
    "    client.model.add_intent(get_luis_env.LUIS_APP_ID, versionId, intentName)\n",
    "    print('intent', intentName ,'added')\n",
    "    # add as much intents as needed for your app\n",
    "    # intent2= 'Greetings'\n",
    "    # intent3= 'CheckWeather'"
   ]
  },
  {
   "cell_type": "markdown",
   "metadata": {},
   "source": [
    "### 1.2. Créer des entités pour l’application\n",
    "Bien que les entités ne soient pas obligatoires, elles sont présentes dans la plupart des applications. L’entité extrait des informations à partir de l’énoncé utilisateur, qui sont nécessaires pour répondre à l’intention de l’utilisateur. Il existe plusieurs types d’entités [prédéfinies](https://docs.microsoft.com/fr-fr/python/api/azure-cognitiveservices-language-luis/azure.cognitiveservices.language.luis.authoring.operations.modeloperations?view=azure-python#add-prebuilt-app-id--version-id--prebuilt-extractor-names--custom-headers-none--raw-false----operation-config-) et personnalisées, chacune avec leurs propres modèles DTO (Data Transformation Object). Les entités prédéfinies courantes à ajouter à votre application incluent number, datetimeV2, geographyV2 et ordinal.\n",
    "\n",
    "- Il est important de savoir que les entités ne sont pas marquées avec une intention. Elles peuvent s’appliquer à de nombreuses intentions. Seuls les exemples d’énoncés utilisateur sont marqués pour une intention unique spécifique.\n",
    "\n",
    "Les méthodes de création pour les entités font partie de la classe ModelOperations. Chaque type d’entité possède son propre modèle DTO (Data Transformation Object).\n",
    "\n",
    "Le code de création d'entité crée une entité de Machine Learning avec des sous-entités et des fonctionnalités appliquées aux sous-entités Quantity.\n",
    "\n",
    "Exemple d'entité: \n",
    "<table>\n",
    "  <tr>\n",
    "    <th>Énoncé</th>\n",
    "    <th>Entité</th>\n",
    "    <th>Résolution</th>\n",
    "  </tr>\n",
    "  <tr>\n",
    "    <td>one thousand times</td>\n",
    "    <td>\"one thousand\"</td>\n",
    "    <td>\"1000\"</td>\n",
    "  </tr>\n",
    "  <tr>\n",
    "    <td>1,000 people</td>\n",
    "    <td>\"1,000\"</td>\n",
    "    <td>\"1000\"</td>\n",
    "  </tr>\n",
    "  <tr>\n",
    "    <td>one hundred fifty orders</td>\n",
    "    <td>\"one hundred fifty\"</td>\n",
    "    <td>\"150\"</td>\n",
    "  </tr>\n",
    "  <tr>\n",
    "    <td>buy two dozen eggs</td>\n",
    "    <td>\"two dozen\"</td>\n",
    "    <td>\"24\"</td>\n",
    "  </tr>  \n",
    "</table>"
   ]
  },
  {
   "cell_type": "markdown",
   "metadata": {},
   "source": [
    "    !!! The entity represents a word or phrase inside the utterance that you want extracted. Entities describe information relevant to the intent, and sometimes they are essential for your app to perform its task."
   ]
  },
  {
   "cell_type": "code",
   "execution_count": 39,
   "metadata": {},
   "outputs": [],
   "source": [
    "# NOT WORKING FROM SDK, DO IT FROM PORTAL\n",
    "\n",
    "# entities = [\"from_city\", \"to_city\", \"from_date\", \"to_date\", \"budget\"]\n",
    "# for e in entities:\n",
    "#     client.model.add_entity(get_luis_env.LUIS_APP_ID, versionId,e)\n",
    "\n"
   ]
  },
  {
   "cell_type": "markdown",
   "metadata": {},
   "source": [
    "### 1.3 Ajouter un exemple d’énoncé à une intention\n",
    "Pour déterminer l’intention d’un énoncé et extraire des entités, l’application a besoin d’exemples d’énoncés. Les exemples doivent cibler une intention spécifique et unique, et doivent marquer toutes les entités personnalisées. Les entités prédéfinies n’ont pas besoin d’être marquées.\n",
    "\n",
    "Ajoutez des exemples d’énoncés en créant une liste d’objets ExampleLabelObject, un objet pour chaque exemple d’énoncé. Chaque exemple doit marquer toutes les entités avec un dictionnaire de paires nom/valeur de nom d’entité et de valeur d’entité. La valeur de l’entité doit être exactement telle qu’elle apparaît dans le texte de l’exemple d’énoncé.\n",
    "\n",
    "\n",
    " - Group data for batch test\n",
    "    It is important that utterances used for batch testing are new to LUIS. If you have a data set of utterances, divide the utterances into three sets: example utterances added to an intent, utterances received from the published endpoint, and utterances used to batch test LUIS after it is trained.\n",
    "\n",
    "    The batch JSON file you use should include utterances with top-level machine-learning entities labeled including start and end position. The utterances should not be part of the examples already in the app. They should be utterances you want to positively predict for intent and entities.\n",
    "\n",
    "    You can separate out tests by intent and/or entity or have all the tests (up to 1000 utterances) in the same file.\n",
    "    \n",
    "    - <b>Batch syntax template </b> for intents with entities:\n",
    "    \n",
    "        {\n",
    "        \"LabeledTestSetUtterances\": [\n",
    "            {\n",
    "                \"text\": \"play a song\",\n",
    "                \"intent\": \"play_music\",\n",
    "                \"entities\": [\n",
    "                    {\n",
    "                        \"entity\": \"song_parent\",\n",
    "                        \"startPos\": 0,\n",
    "                        \"endPos\": 15,\n",
    "                        \"children\": [\n",
    "                            {\n",
    "                                \"entity\": \"pre_song\",\n",
    "                                \"startPos\": 0,\n",
    "                                \"endPos\": 3\n",
    "                            },\n",
    "                            {\n",
    "                                \"entity\": \"song_info\",\n",
    "                                \"startPos\": 5,\n",
    "                                \"endPos\": 15\n",
    "                            }\n",
    "                        ]\n",
    "                    }\n",
    "                ]\n",
    "            }\n",
    "        ]\n",
    "    }\n"
   ]
  },
  {
   "cell_type": "code",
   "execution_count": 8,
   "metadata": {},
   "outputs": [
    {
     "name": "stdout",
     "output_type": "stream",
     "text": [
      "Labeled Example Utterance: {'text': \"I'd like to book a trip to Atlantis from Caprica on Saturday, August 13, 2016 for 8 adults. I have a tight budget of 1700.\", 'intentName': 'ReserverVoyage', 'entityLabels': [{'startCharIndex': 27, 'endCharIndex': 34, 'entityName': 'to_city', 'children': []}, {'startCharIndex': 41, 'endCharIndex': 47, 'entityName': 'from_city', 'children': []}, {'startCharIndex': 52, 'endCharIndex': 76, 'entityName': 'from_date', 'children': []}, {'startCharIndex': 117, 'endCharIndex': 120, 'entityName': 'budget', 'children': []}]}\n"
     ]
    },
    {
     "data": {
      "text/plain": [
       "<azure.cognitiveservices.language.luis.authoring.models._models_py3.LabelExampleResponse at 0x2a6a7da6280>"
      ]
     },
     "execution_count": 8,
     "metadata": {},
     "output_type": "execute_result"
    }
   ],
   "source": [
    "# Define labeled example\n",
    "intentName = \"ReserverVoyage\"\n",
    "\n",
    "labeledExampleUtteranceWithMLEntity = {\n",
    "    \"text\": \"I'd like to book a trip to Atlantis from Caprica on Saturday, August 13, 2016 for 8 adults. I have a tight budget of 1700.\",\n",
    "    \"intentName\": intentName,\n",
    "    \"entityLabels\": [\n",
    "        {\n",
    "            \"startCharIndex\": 27,     #startPos for batch\n",
    "            \"endCharIndex\": 34,       #endPos for batch\n",
    "            \"entityName\": \"to_city\",  #entity for batch\n",
    "            \"children\": []\n",
    "        },\n",
    "        \n",
    "        {\n",
    "            \"startCharIndex\": 41,\n",
    "            \"endCharIndex\": 47,\n",
    "            \"entityName\": \"from_city\",\n",
    "            \"children\": []\n",
    "        },\n",
    "        {\n",
    "            \"startCharIndex\": 52,\n",
    "            \"endCharIndex\":76,\n",
    "            \"entityName\": \"from_date\",\n",
    "            \"children\": []\n",
    "        },\n",
    "        {\n",
    "            \"startCharIndex\": 117,\n",
    "            \"endCharIndex\":120,\n",
    "            \"entityName\": \"budget\",\n",
    "            \"children\": []\n",
    "        }\n",
    "    ]\n",
    "}\n",
    "\n",
    "print(\"Labeled Example Utterance:\", labeledExampleUtteranceWithMLEntity)\n",
    "\n",
    "# Add an example for the entity.\n",
    "# Enable nested children to allow using multiple models with the same name.\n",
    "# The quantity subentity and the phraselist could have the same exact name if this is set to True\n",
    "client.examples.add(get_luis_env.LUIS_APP_ID, versionId, labeledExampleUtteranceWithMLEntity, { \"enableNestedChildren\": True })"
   ]
  },
  {
   "cell_type": "markdown",
   "metadata": {},
   "source": [
    "# 2. Effectuer l’apprentissage de l’application\n",
    "Une fois le modèle créé, l’application LUIS doit être entraînée pour cette version du modèle. Un modèle entraîné peut être utilisé dans un conteneur ou publié dans les emplacements intermédiaires ou produits.\n",
    "\n",
    "La méthode train.train_version a besoin de l’ID de l’application et de l’ID de version.\n",
    "\n",
    "Un modèle très petit, comme l’illustre ce guide de démarrage rapide, sera entraîné très rapidement. Pour les applications de niveau production, l’entraînement de l’application doit inclure un appel d’interrogation à la méthode get_status pour déterminer si l’entraînement a réussi. La réponse est une liste d’objets ModelTrainingInfo avec un état distinct pour chaque objet. Tous les objets doivent réussir pour que l’entraînement soit considéré comme terminé."
   ]
  },
  {
   "cell_type": "code",
   "execution_count": null,
   "metadata": {},
   "outputs": [],
   "source": [
    "# the code is summarized as 'def' in utils.py for repetition use\n",
    "client.train.train_version(app_id, versionId)\n",
    "waiting = True\n",
    "while waiting:\n",
    "    info = client.train.get_status(app_id, versionId)\n",
    "\n",
    "    # get_status returns a list of training statuses, one for each model. Loop through them and make sure all are done.\n",
    "    waiting = any(map(lambda x: 'Queued' == x.details.status or 'InProgress' == x.details.status, info))\n",
    "    if waiting:\n",
    "        print (\"Waiting 10 seconds for training to complete...\")\n",
    "        time.sleep(10)\n",
    "    else: \n",
    "        print (\"trained\")\n",
    "        waiting = False\n"
   ]
  },
  {
   "cell_type": "markdown",
   "metadata": {},
   "source": [
    "# 3. Publier une application dans l’emplacement de production\n",
    "Publiez l’application LUIS à l’aide de la méthode app.publish. Cela permet de publier la version entraînée actuelle à l’emplacement spécifié au point de terminaison. Votre application cliente utilise ce point de terminaison afin d’envoyer des énoncés utilisateur pour la prédiction de l’intention et l’extraction d’entité."
   ]
  },
  {
   "cell_type": "code",
   "execution_count": null,
   "metadata": {},
   "outputs": [],
   "source": [
    "# Mark the app as public so we can query it using any prediction endpoint.\n",
    "# Note: For production scenarios, you should instead assign the app to your own LUIS prediction endpoint. See:\n",
    "# https://docs.microsoft.com/en-gb/azure/cognitive-services/luis/luis-how-to-azure-subscription#assign-a-resource-to-an-app\n",
    "client.apps.update_settings(app_id, is_public=True)\n",
    "\n",
    "responseEndpointInfo = client.apps.publish(app_id, versionId, is_staging=False)"
   ]
  },
  {
   "cell_type": "markdown",
   "metadata": {},
   "source": [
    "# 4. Authentifier le client du runtime de prédiction\n",
    "Utilisez l'objet d'informations d'identification avec votre clé, puis utilisez-le avec votre point de terminaison pour créer un objet LUISRuntimeClientConfiguration."
   ]
  },
  {
   "cell_type": "code",
   "execution_count": 14,
   "metadata": {},
   "outputs": [],
   "source": [
    "runtimeCredentials = CognitiveServicesCredentials(get_luis_env.LUIS_PRED_KEY)\n",
    "clientRuntime = LUISRuntimeClient(endpoint=get_luis_env.LUIS_PRED_ENDPOINT, credentials=runtimeCredentials)"
   ]
  },
  {
   "cell_type": "markdown",
   "metadata": {},
   "source": [
    "# 5. Obtenir une prédiction du runtime\n",
    "Ajoutez le code suivant pour créer la requête à adresser au runtime de prédiction.\n",
    "\n",
    "L’énoncé utilisateur fait partie de l’objet prediction_request.\n",
    "\n",
    "La méthode get_slot_prediction nécessite plusieurs paramètres tels que l’ID de l’application, le nom de l’emplacement et l’objet de requête de prédiction pour traiter la requête. Les autres options que sont verbose (mode détaillé), showAllIntents (afficher toutes les intentions) et log (journal) sont facultatives. La requête retourne un objet PredictionResponse."
   ]
  },
  {
   "cell_type": "code",
   "execution_count": 16,
   "metadata": {},
   "outputs": [
    {
     "ename": "AttributeError",
     "evalue": "'PredictionOperations' object has no attribute 'get_slot_prediction'",
     "output_type": "error",
     "traceback": [
      "\u001b[1;31m---------------------------------------------------------------------------\u001b[0m",
      "\u001b[1;31mAttributeError\u001b[0m                            Traceback (most recent call last)",
      "\u001b[1;32mc:\\Users\\marko\\OneDrive\\Travail\\Formations\\OPENCLASSROOMS FORMATION AI\\03 PROJETS\\10 Chatbot réservation des vacances\\P10_01_notebook.ipynb Cell 22'\u001b[0m in \u001b[0;36m<module>\u001b[1;34m\u001b[0m\n\u001b[0;32m      <a href='vscode-notebook-cell:/c%3A/Users/marko/OneDrive/Travail/Formations/OPENCLASSROOMS%20FORMATION%20AI/03%20PROJETS/10%20Chatbot%20r%C3%A9servation%20des%20vacances/P10_01_notebook.ipynb#ch0000021?line=3'>4</a>\u001b[0m predictionRequest \u001b[39m=\u001b[39m { \u001b[39m\"\u001b[39m\u001b[39mquery\u001b[39m\u001b[39m\"\u001b[39m : querytext }\n\u001b[0;32m      <a href='vscode-notebook-cell:/c%3A/Users/marko/OneDrive/Travail/Formations/OPENCLASSROOMS%20FORMATION%20AI/03%20PROJETS/10%20Chatbot%20r%C3%A9servation%20des%20vacances/P10_01_notebook.ipynb#ch0000021?line=4'>5</a>\u001b[0m app_id \u001b[39m=\u001b[39m get_luis_env\u001b[39m.\u001b[39mLUIS_APP_ID\n\u001b[1;32m----> <a href='vscode-notebook-cell:/c%3A/Users/marko/OneDrive/Travail/Formations/OPENCLASSROOMS%20FORMATION%20AI/03%20PROJETS/10%20Chatbot%20r%C3%A9servation%20des%20vacances/P10_01_notebook.ipynb#ch0000021?line=5'>6</a>\u001b[0m predictionResponse \u001b[39m=\u001b[39m clientRuntime\u001b[39m.\u001b[39;49mprediction\u001b[39m.\u001b[39;49mget_slot_prediction(app_id, \u001b[39m\"\u001b[39m\u001b[39mProduction\u001b[39m\u001b[39m\"\u001b[39m, predictionRequest)\n\u001b[0;32m      <a href='vscode-notebook-cell:/c%3A/Users/marko/OneDrive/Travail/Formations/OPENCLASSROOMS%20FORMATION%20AI/03%20PROJETS/10%20Chatbot%20r%C3%A9servation%20des%20vacances/P10_01_notebook.ipynb#ch0000021?line=6'>7</a>\u001b[0m \u001b[39mprint\u001b[39m(\u001b[39m\"\u001b[39m\u001b[39mTop intent: \u001b[39m\u001b[39m{}\u001b[39;00m\u001b[39m\"\u001b[39m\u001b[39m.\u001b[39mformat(predictionResponse\u001b[39m.\u001b[39mprediction\u001b[39m.\u001b[39mtop_intent))\n\u001b[0;32m      <a href='vscode-notebook-cell:/c%3A/Users/marko/OneDrive/Travail/Formations/OPENCLASSROOMS%20FORMATION%20AI/03%20PROJETS/10%20Chatbot%20r%C3%A9servation%20des%20vacances/P10_01_notebook.ipynb#ch0000021?line=7'>8</a>\u001b[0m \u001b[39mprint\u001b[39m(\u001b[39m\"\u001b[39m\u001b[39mSentiment: \u001b[39m\u001b[39m{}\u001b[39;00m\u001b[39m\"\u001b[39m\u001b[39m.\u001b[39mformat (predictionResponse\u001b[39m.\u001b[39mprediction\u001b[39m.\u001b[39msentiment))\n",
      "\u001b[1;31mAttributeError\u001b[0m: 'PredictionOperations' object has no attribute 'get_slot_prediction'"
     ]
    }
   ],
   "source": [
    "# Production == slot name\n",
    "querytext = 'I want two small pepperoni pizzas with more salsa'\n",
    "\n",
    "predictionRequest = { \"query\" : querytext }\n",
    "app_id = get_luis_env.LUIS_APP_ID\n",
    "predictionResponse = clientRuntime.prediction.get_slot_prediction(app_id, \"Production\", predictionRequest)\n",
    "print(\"Top intent: {}\".format(predictionResponse.prediction.top_intent))\n",
    "print(\"Sentiment: {}\".format (predictionResponse.prediction.sentiment))\n",
    "print(\"Intents: \")\n",
    "\n",
    "for intent in predictionResponse.prediction.intents:\n",
    "    print(\"\\t{}\".format (json.dumps (intent)))\n",
    "print(\"Entities: {}\".format (predictionResponse.prediction.entities))"
   ]
  },
  {
   "cell_type": "markdown",
   "metadata": {},
   "source": [
    "La réponse de prédiction est un objet JSON comprenant l'intention et toutes les entités trouvées."
   ]
  },
  {
   "cell_type": "markdown",
   "metadata": {},
   "source": [
    "{\n",
    "    \"query\": \"I want two small pepperoni pizzas with more salsa\",\n",
    "    \"prediction\": {\n",
    "        \"topIntent\": \"OrderPizzaIntent\",\n",
    "        \"intents\": {\n",
    "            \"OrderPizzaIntent\": {\n",
    "                \"score\": 0.753606856\n",
    "            },\n",
    "            \"None\": {\n",
    "                \"score\": 0.119097039\n",
    "            }\n",
    "        },\n",
    "        \"entities\": {\n",
    "            \"Pizza order\": [\n",
    "                {\n",
    "                    \"Pizza\": [\n",
    "                        {\n",
    "                            \"Quantity\": [\n",
    "                                2\n",
    "                            ],\n",
    "                            \"Type\": [\n",
    "                                \"pepperoni\"\n",
    "                            ],\n",
    "                            \"Size\": [\n",
    "                                \"small\"\n",
    "                            ],\n",
    "                            \"$instance\": {\n",
    "                                \"Quantity\": [\n",
    "                                    {\n",
    "                                        \"type\": \"builtin.number\",\n",
    "                                        \"text\": \"two\",\n",
    "                                        \"startIndex\": 7,\n",
    "                                        \"length\": 3,\n",
    "                                        \"score\": 0.968156934,\n",
    "                                        \"modelTypeId\": 1,\n",
    "                                        \"modelType\": \"Entity Extractor\",\n",
    "                                        \"recognitionSources\": [\n",
    "                                            \"model\"\n",
    "                                        ]\n",
    "                                    }\n",
    "                                ],\n",
    "                                \"Type\": [\n",
    "                                    {\n",
    "                                        \"type\": \"Type\",\n",
    "                                        \"text\": \"pepperoni\",\n",
    "                                        \"startIndex\": 17,\n",
    "                                        \"length\": 9,\n",
    "                                        \"score\": 0.9345611,\n",
    "                                        \"modelTypeId\": 1,\n",
    "                                        \"modelType\": \"Entity Extractor\",\n",
    "                                        \"recognitionSources\": [\n",
    "                                            \"model\"\n",
    "                                        ]\n",
    "                                    }\n",
    "                                ],\n",
    "                                \"Size\": [\n",
    "                                    {\n",
    "                                        \"type\": \"Size\",\n",
    "                                        \"text\": \"small\",\n",
    "                                        \"startIndex\": 11,\n",
    "                                        \"length\": 5,\n",
    "                                        \"score\": 0.9592077,\n",
    "                                        \"modelTypeId\": 1,\n",
    "                                        \"modelType\": \"Entity Extractor\",\n",
    "                                        \"recognitionSources\": [\n",
    "                                            \"model\"\n",
    "                                        ]\n",
    "                                    }\n",
    "                                ]\n",
    "                            }\n",
    "                        }\n",
    "                    ],\n",
    "                    \"Toppings\": [\n",
    "                        {\n",
    "                            \"Type\": [\n",
    "                                \"salsa\"\n",
    "                            ],\n",
    "                            \"Quantity\": [\n",
    "                                \"more\"\n",
    "                            ],\n",
    "                            \"$instance\": {\n",
    "                                \"Type\": [\n",
    "                                    {\n",
    "                                        \"type\": \"Type\",\n",
    "                                        \"text\": \"salsa\",\n",
    "                                        \"startIndex\": 44,\n",
    "                                        \"length\": 5,\n",
    "                                        \"score\": 0.7292897,\n",
    "                                        \"modelTypeId\": 1,\n",
    "                                        \"modelType\": \"Entity Extractor\",\n",
    "                                        \"recognitionSources\": [\n",
    "                                            \"model\"\n",
    "                                        ]\n",
    "                                    }\n",
    "                                ],\n",
    "                                \"Quantity\": [\n",
    "                                    {\n",
    "                                        \"type\": \"Quantity\",\n",
    "                                        \"text\": \"more\",\n",
    "                                        \"startIndex\": 39,\n",
    "                                        \"length\": 4,\n",
    "                                        \"score\": 0.9320932,\n",
    "                                        \"modelTypeId\": 1,\n",
    "                                        \"modelType\": \"Entity Extractor\",\n",
    "                                        \"recognitionSources\": [\n",
    "                                            \"model\"\n",
    "                                        ]\n",
    "                                    }\n",
    "                                ]\n",
    "                            }\n",
    "                        }\n",
    "                    ],\n",
    "                    \"$instance\": {\n",
    "                        \"Pizza\": [\n",
    "                            {\n",
    "                                \"type\": \"Pizza\",\n",
    "                                \"text\": \"two small pepperoni pizzas\",\n",
    "                                \"startIndex\": 7,\n",
    "                                \"length\": 26,\n",
    "                                \"score\": 0.812199831,\n",
    "                                \"modelTypeId\": 1,\n",
    "                                \"modelType\": \"Entity Extractor\",\n",
    "                                \"recognitionSources\": [\n",
    "                                    \"model\"\n",
    "                                ]\n",
    "                            }\n",
    "                        ],\n",
    "                        \"Toppings\": [\n",
    "                            {\n",
    "                                \"type\": \"Toppings\",\n",
    "                                \"text\": \"more salsa\",\n",
    "                                \"startIndex\": 39,\n",
    "                                \"length\": 10,\n",
    "                                \"score\": 0.7250252,\n",
    "                                \"modelTypeId\": 1,\n",
    "                                \"modelType\": \"Entity Extractor\",\n",
    "                                \"recognitionSources\": [\n",
    "                                    \"model\"\n",
    "                                ]\n",
    "                            }\n",
    "                        ]\n",
    "                    }\n",
    "                }\n",
    "            ],\n",
    "            \"$instance\": {\n",
    "                \"Pizza order\": [\n",
    "                    {\n",
    "                        \"type\": \"Pizza order\",\n",
    "                        \"text\": \"two small pepperoni pizzas with more salsa\",\n",
    "                        \"startIndex\": 7,\n",
    "                        \"length\": 42,\n",
    "                        \"score\": 0.769223332,\n",
    "                        \"modelTypeId\": 1,\n",
    "                        \"modelType\": \"Entity Extractor\",\n",
    "                        \"recognitionSources\": [\n",
    "                            \"model\"\n",
    "                        ]\n",
    "                    }\n",
    "                ]\n",
    "            }\n",
    "        }\n",
    "    }\n",
    "}"
   ]
  },
  {
   "cell_type": "markdown",
   "metadata": {},
   "source": [
    "# 6. Exécution de l'application\n",
    "Exécutez l’application avec la commande python de votre fichier de démarrage rapide."
   ]
  },
  {
   "cell_type": "markdown",
   "metadata": {},
   "source": [
    "python authoring_and_predict.py"
   ]
  },
  {
   "cell_type": "markdown",
   "metadata": {},
   "source": [
    "# 7. Nettoyer les ressources\n",
    "Vous pouvez supprimer l’application à partir du portail LUIS et supprimer les ressources Azure du portail Azure.\n",
    "\n",
    "Si vous utilisez l’API REST, vous devrez supprimer le fichier ExampleUtterances.JSON du système de fichiers à la fin de ce guide de démarrage rapide."
   ]
  },
  {
   "cell_type": "markdown",
   "metadata": {},
   "source": [
    "# 8. Développement itératif de l'application LUIS\n",
    "\n",
    "A LUIS app learns and performs most efficiently when you iteratively develop it. Here's a typical iteration cycle:\n",
    "\n",
    "1. Create a new version\n",
    "2. Edit the LUIS app schema. This includes:\n",
    "    - Intents with example utterances\n",
    "    - Entities\n",
    "    - Features\n",
    "3. Train, test, and publish\n",
    "4. Test for active learning by reviewing utterances sent to the prediction endpoint\n",
    "5. Gather data from endpoint queries"
   ]
  },
  {
   "cell_type": "markdown",
   "metadata": {},
   "source": [
    "# DATASET ANALYSIS"
   ]
  },
  {
   "cell_type": "code",
   "execution_count": 10,
   "metadata": {},
   "outputs": [
    {
     "name": "stdout",
     "output_type": "stream",
     "text": [
      "1369\n"
     ]
    }
   ],
   "source": [
    "with open(\"./00_data/frames.json\") as f:\n",
    "    frames = json.load(f)\n",
    "\n",
    "print(len(frames))    "
   ]
  },
  {
   "cell_type": "markdown",
   "metadata": {},
   "source": [
    "qu'est ce qu'il y a l'intérieur des frames?"
   ]
  },
  {
   "cell_type": "code",
   "execution_count": 13,
   "metadata": {},
   "outputs": [
    {
     "name": "stdout",
     "output_type": "stream",
     "text": [
      "user_id 9\n",
      "turns 7\n",
      "wizard_id 9\n",
      "id 36\n",
      "labels 2\n"
     ]
    }
   ],
   "source": [
    "for item in frames[0]:\n",
    "    print(item, len(frames[0][item]))"
   ]
  },
  {
   "cell_type": "markdown",
   "metadata": {},
   "source": [
    "la conversation entre l'utilisateur de le bot est stockée dans 'turns'. Regardons en un exemple:"
   ]
  },
  {
   "cell_type": "code",
   "execution_count": 14,
   "metadata": {},
   "outputs": [
    {
     "name": "stdout",
     "output_type": "stream",
     "text": [
      "1. USER : Hi im from Houston and i want to go to San Antonio, but i have strict dates can you help?\n",
      "-----------------------------------\n",
      "2. WIZARD : Sure thing! What days are you hoping to travel?\n",
      "______________________________________________________________________\n",
      "3. USER : August 25th until September 11th are the days im available\n",
      "-----------------------------------\n",
      "4. WIZARD : And will you be traveling with anyone?\n",
      "______________________________________________________________________\n",
      "5. USER : ill be alone\n",
      "-----------------------------------\n",
      "6. WIZARD : Well, let me tell you about the best deal I've found: The Vertex Inn is a 2-star hotel with a 7.15/10 guest rating, free wifi, free parking and free breakfast. They have a vacancy from the 7th to the 10th of September. You would be flying business class, bringing your total to 516.9 USD. Do you want me to book this trip?\n",
      "______________________________________________________________________\n",
      "7. USER : that sounds very tempting! are there any packaged available to mexico?\n",
      "-----------------------------------\n",
      "8. WIZARD : I can send you to Mexico City from the 27th of August to the 6th of September. You would be staying at the Hotel Tropic, a 3.0-star hotel with a 6.77/10 guest rating. The total cost of this package is 1148.31USD. Do you want me to book this trip\n",
      "______________________________________________________________________\n",
      "9. USER : yes please it looks like Mexico is the better choice\n",
      "-----------------------------------\n",
      "10. WIZARD : Done! Your flight leaves on Saturday, August 27th at 5:05 p.m. Enjoy your vacation!\n",
      "______________________________________________________________________\n",
      "11. USER : perfect! thank you\n",
      "-----------------------------------\n"
     ]
    }
   ],
   "source": [
    "for n, i in enumerate(frames[80][\"turns\"]):\n",
    "    print(str(n+1)+'.', i['author'].upper(), ':', i['text'])\n",
    "    if n%2 ==0:\n",
    "        print('-'*35)\n",
    "    else:\n",
    "        print('_'*70)"
   ]
  },
  {
   "cell_type": "markdown",
   "metadata": {},
   "source": [
    "## Transformation des données en format LUIS\n",
    "\n",
    "1. Nous allons garder les données qui nous intéressent \n",
    "2. Nous allons les transformer en format LUIS\n",
    "3. Nous allons séparer les données en train/test \n",
    "4. Nous allons enregistrer les données sur Azure workspace\n",
    "\n",
    "\n",
    "Identify your intents:\n",
    "- Think about the intents that are important to your application's task.\n",
    "\n",
    "- Let's take the example of a travel app, with functions to book a flight and check the weather at the user's destination. You can define two intents, BookFlight and GetWeather for these actions.\n",
    "\n",
    "- In a more complex app with more functions, you likely would have more intents, and you should define them carefully so they aren't too specific. For example, BookFlight and BookHotel may need to be separate intents, but BookInternationalFlight and BookDomesticFlight may be too similar.\n",
    "\n",
    "!!! It is a best practice to use only as many intents as you need to perform the functions of your app. If you define too many intents, it becomes harder for LUIS to classify utterances correctly. If you define too few, they may be so general that they overlap.\n",
    "\n",
    "!!! If you don't need to identify overall user intention, add all the example user utterances to the None intent. If your app grows into needing more intents, you can create them later.\n",
    "\n",
    "[See here for App schema](https://docs.microsoft.com/en-us/azure/cognitive-services/luis/app-schema-definition) for params.json file"
   ]
  },
  {
   "cell_type": "code",
   "execution_count": 7,
   "metadata": {},
   "outputs": [],
   "source": [
    "# try:\n",
    "#     with open(\"./00_data/params.json\") as f:\n",
    "#         params = json.load(f)\n",
    "\n",
    "#     print(\"Intents :\", [i[\"name\"] for i in params[\"model\"][\"intents\"]])\n",
    "#     print(\"Entities :\", [i[\"name\"] for i in params[\"model\"][\"entities\"]])\n",
    "# except:\n",
    "#     pass"
   ]
  },
  {
   "cell_type": "code",
   "execution_count": 15,
   "metadata": {},
   "outputs": [
    {
     "data": {
      "text/plain": [
       "(1369, 11)"
      ]
     },
     "execution_count": 15,
     "metadata": {},
     "output_type": "execute_result"
    }
   ],
   "source": [
    "label_to_entity = {\n",
    "    \"or_city\": \"from_city\",\n",
    "    \"dst_city\": \"to_city\",\n",
    "    \"str_date\": \"from_date\",\n",
    "    \"end_date\": \"to_date\",\n",
    "    \"budget\": \"budget\"\n",
    "}\n",
    "\n",
    "intentName = \"ReserverVoyage\"\n",
    "df = user_turns_to_luis_ds(\n",
    "    frames,\n",
    "    intentName,\n",
    "    label_to_entity,\n",
    "    keep_only_first=True\n",
    ")\n",
    "    \n",
    "df.shape"
   ]
  },
  {
   "cell_type": "code",
   "execution_count": 16,
   "metadata": {},
   "outputs": [
    {
     "data": {
      "text/plain": [
       "(1329, 11)"
      ]
     },
     "execution_count": 16,
     "metadata": {},
     "output_type": "execute_result"
    }
   ],
   "source": [
    "# On supprime les doublons\n",
    "df = df.drop_duplicates([\"text\"])\n",
    "df.shape"
   ]
  },
  {
   "cell_type": "code",
   "execution_count": 17,
   "metadata": {},
   "outputs": [
    {
     "data": {
      "text/html": [
       "<div>\n",
       "<style scoped>\n",
       "    .dataframe tbody tr th:only-of-type {\n",
       "        vertical-align: middle;\n",
       "    }\n",
       "\n",
       "    .dataframe tbody tr th {\n",
       "        vertical-align: top;\n",
       "    }\n",
       "\n",
       "    .dataframe thead th {\n",
       "        text-align: right;\n",
       "    }\n",
       "</style>\n",
       "<table border=\"1\" class=\"dataframe\">\n",
       "  <thead>\n",
       "    <tr style=\"text-align: right;\">\n",
       "      <th></th>\n",
       "      <th>user_turn_id</th>\n",
       "      <th>text</th>\n",
       "      <th>intent</th>\n",
       "      <th>entities</th>\n",
       "      <th>entity_total_nb</th>\n",
       "      <th>from_city_nb</th>\n",
       "      <th>to_city_nb</th>\n",
       "      <th>from_date_nb</th>\n",
       "      <th>to_date_nb</th>\n",
       "      <th>budget_nb</th>\n",
       "      <th>text_word_nb</th>\n",
       "    </tr>\n",
       "  </thead>\n",
       "  <tbody>\n",
       "    <tr>\n",
       "      <th>0</th>\n",
       "      <td>0</td>\n",
       "      <td>I'd like to book a trip to Atlantis from Capri...</td>\n",
       "      <td>ReserverVoyage</td>\n",
       "      <td>[{'entity': 'to_city', 'startPos': 27, 'endPos...</td>\n",
       "      <td>4</td>\n",
       "      <td>1</td>\n",
       "      <td>1</td>\n",
       "      <td>1</td>\n",
       "      <td>0</td>\n",
       "      <td>1</td>\n",
       "      <td>25</td>\n",
       "    </tr>\n",
       "    <tr>\n",
       "      <th>1</th>\n",
       "      <td>0</td>\n",
       "      <td>Hello, I am looking to book a vacation from Go...</td>\n",
       "      <td>ReserverVoyage</td>\n",
       "      <td>[{'entity': 'to_city', 'startPos': 59, 'endPos...</td>\n",
       "      <td>3</td>\n",
       "      <td>1</td>\n",
       "      <td>1</td>\n",
       "      <td>0</td>\n",
       "      <td>0</td>\n",
       "      <td>1</td>\n",
       "      <td>16</td>\n",
       "    </tr>\n",
       "    <tr>\n",
       "      <th>2</th>\n",
       "      <td>0</td>\n",
       "      <td>Hello there i am looking to go on a vacation w...</td>\n",
       "      <td>ReserverVoyage</td>\n",
       "      <td>[{'entity': 'to_city', 'startPos': 63, 'endPos...</td>\n",
       "      <td>1</td>\n",
       "      <td>0</td>\n",
       "      <td>1</td>\n",
       "      <td>0</td>\n",
       "      <td>0</td>\n",
       "      <td>0</td>\n",
       "      <td>20</td>\n",
       "    </tr>\n",
       "    <tr>\n",
       "      <th>3</th>\n",
       "      <td>0</td>\n",
       "      <td>Hi I'd like to go to Caprica from Busan, betwe...</td>\n",
       "      <td>ReserverVoyage</td>\n",
       "      <td>[{'entity': 'to_city', 'startPos': 21, 'endPos...</td>\n",
       "      <td>4</td>\n",
       "      <td>1</td>\n",
       "      <td>1</td>\n",
       "      <td>1</td>\n",
       "      <td>1</td>\n",
       "      <td>0</td>\n",
       "      <td>19</td>\n",
       "    </tr>\n",
       "    <tr>\n",
       "      <th>4</th>\n",
       "      <td>0</td>\n",
       "      <td>Hello, I am looking to book a trip for 2 adult...</td>\n",
       "      <td>ReserverVoyage</td>\n",
       "      <td>[{'entity': 'budget', 'startPos': 67, 'endPos'...</td>\n",
       "      <td>3</td>\n",
       "      <td>1</td>\n",
       "      <td>1</td>\n",
       "      <td>0</td>\n",
       "      <td>0</td>\n",
       "      <td>1</td>\n",
       "      <td>25</td>\n",
       "    </tr>\n",
       "  </tbody>\n",
       "</table>\n",
       "</div>"
      ],
      "text/plain": [
       "   user_turn_id                                               text  \\\n",
       "0             0  I'd like to book a trip to Atlantis from Capri...   \n",
       "1             0  Hello, I am looking to book a vacation from Go...   \n",
       "2             0  Hello there i am looking to go on a vacation w...   \n",
       "3             0  Hi I'd like to go to Caprica from Busan, betwe...   \n",
       "4             0  Hello, I am looking to book a trip for 2 adult...   \n",
       "\n",
       "           intent                                           entities  \\\n",
       "0  ReserverVoyage  [{'entity': 'to_city', 'startPos': 27, 'endPos...   \n",
       "1  ReserverVoyage  [{'entity': 'to_city', 'startPos': 59, 'endPos...   \n",
       "2  ReserverVoyage  [{'entity': 'to_city', 'startPos': 63, 'endPos...   \n",
       "3  ReserverVoyage  [{'entity': 'to_city', 'startPos': 21, 'endPos...   \n",
       "4  ReserverVoyage  [{'entity': 'budget', 'startPos': 67, 'endPos'...   \n",
       "\n",
       "   entity_total_nb  from_city_nb  to_city_nb  from_date_nb  to_date_nb  \\\n",
       "0                4             1           1             1           0   \n",
       "1                3             1           1             0           0   \n",
       "2                1             0           1             0           0   \n",
       "3                4             1           1             1           1   \n",
       "4                3             1           1             0           0   \n",
       "\n",
       "   budget_nb  text_word_nb  \n",
       "0          1            25  \n",
       "1          1            16  \n",
       "2          0            20  \n",
       "3          0            19  \n",
       "4          1            25  "
      ]
     },
     "execution_count": 17,
     "metadata": {},
     "output_type": "execute_result"
    }
   ],
   "source": [
    "df.head()"
   ]
  },
  {
   "cell_type": "markdown",
   "metadata": {},
   "source": [
    "Regardons les phrases sans aucune entité définie, et sans intention"
   ]
  },
  {
   "cell_type": "code",
   "execution_count": 18,
   "metadata": {},
   "outputs": [
    {
     "data": {
      "text/plain": [
       "40                                                Hi!\n",
       "48                                              Heyo!\n",
       "52                                      Good morning.\n",
       "63                                      Hello wozbot!\n",
       "106                                      ay whats up?\n",
       "                            ...                      \n",
       "1146                                I need your help!\n",
       "1158                         Vacay time woooohooooooo\n",
       "1165    Hi. First time trying this out. What do I do?\n",
       "1259                           I have 9 days vacation\n",
       "1348                        Hi! I am very excited!!!!\n",
       "Name: text, Length: 69, dtype: object"
      ]
     },
     "execution_count": 18,
     "metadata": {},
     "output_type": "execute_result"
    }
   ],
   "source": [
    "df[(df[\"intent\"] == \"None\") & (df[\"entity_total_nb\"] == 0)]['text']"
   ]
  },
  {
   "cell_type": "code",
   "execution_count": 19,
   "metadata": {},
   "outputs": [
    {
     "data": {
      "text/plain": [
       "ReserverVoyage    1135\n",
       "None               194\n",
       "Name: intent, dtype: int64"
      ]
     },
     "execution_count": 19,
     "metadata": {},
     "output_type": "execute_result"
    }
   ],
   "source": [
    "df[\"intent\"].value_counts()"
   ]
  },
  {
   "cell_type": "markdown",
   "metadata": {},
   "source": [
    "Regardons les échanges avec intention = None"
   ]
  },
  {
   "cell_type": "code",
   "execution_count": 20,
   "metadata": {},
   "outputs": [
    {
     "name": "stdout",
     "output_type": "stream",
     "text": [
      "Hello, I have 15 vacation days available between June 1st and August 31st. I am leaving from Theed. I would like to go somewhere with lots of sunshine.\n",
      "Hi!\n",
      "Hi! I'd like to go to Boston from Mos Eisley on August 15th.\n",
      "Heyo!\n",
      "Good morning.\n",
      "Hi. I need to book a vacation to Long Beach between August 25 and September 3. Departure is from Paris\n",
      "Hi we're from Miami and we want to go to paris, can you help out?\n",
      "Hello wozbot!\n",
      "Hi im fro termina and i want to go on vacation on August 13th\n",
      "Hi i am looking to go to Punta Cana with my three friends\n"
     ]
    }
   ],
   "source": [
    "for text in df[df[\"intent\"] == \"None\"][\"text\"].iloc[:10]:\n",
    "    print(text)"
   ]
  },
  {
   "cell_type": "markdown",
   "metadata": {},
   "source": [
    "On constate que certaines énoncés labellées avec intention=None possèdent des informations concentant certaines entités (from_city, to_city, dates etc). Modifions l'intention pour ceux-ci pour les inclure dans intention=ReserverVoyage."
   ]
  },
  {
   "cell_type": "code",
   "execution_count": 21,
   "metadata": {},
   "outputs": [],
   "source": [
    "def change_val(df):\n",
    "    if df[\"intent\"]==\"None\" and df[\"entity_total_nb\"]==0:\n",
    "        return 'None'\n",
    "    else:\n",
    "        return 'ReserverVoyage'\n",
    "\n",
    "df[\"intent\"] = df.apply(change_val, axis=1)\n"
   ]
  },
  {
   "cell_type": "markdown",
   "metadata": {},
   "source": [
    "Qu'est-ce qui nous reste comme intention=None?"
   ]
  },
  {
   "cell_type": "code",
   "execution_count": 22,
   "metadata": {},
   "outputs": [
    {
     "name": "stdout",
     "output_type": "stream",
     "text": [
      "ReserverVoyage    1260\n",
      "None                69\n",
      "Name: intent, dtype: int64\n",
      "----------------------------------------------------------------------\n",
      "Hi!\n",
      "Heyo!\n",
      "Good morning.\n",
      "Hello wozbot!\n",
      "ay whats up?\n",
      "hi there\n",
      "me again... I'm still burnt out from work\n",
      "hey\n",
      "hello hello\n",
      "HEY\n"
     ]
    }
   ],
   "source": [
    "print(df['intent'].value_counts())\n",
    "print('-'*70)\n",
    "for text in df[df[\"intent\"] == \"None\"][\"text\"].iloc[:10]:\n",
    "    print(text)"
   ]
  },
  {
   "cell_type": "markdown",
   "metadata": {},
   "source": [
    "Regardons les statistiques des échanges ayant toutes les entités présentes. On constate qu'il y en a 33 (échanges)"
   ]
  },
  {
   "cell_type": "code",
   "execution_count": 23,
   "metadata": {},
   "outputs": [
    {
     "data": {
      "text/html": [
       "<div>\n",
       "<style scoped>\n",
       "    .dataframe tbody tr th:only-of-type {\n",
       "        vertical-align: middle;\n",
       "    }\n",
       "\n",
       "    .dataframe tbody tr th {\n",
       "        vertical-align: top;\n",
       "    }\n",
       "\n",
       "    .dataframe thead th {\n",
       "        text-align: right;\n",
       "    }\n",
       "</style>\n",
       "<table border=\"1\" class=\"dataframe\">\n",
       "  <thead>\n",
       "    <tr style=\"text-align: right;\">\n",
       "      <th></th>\n",
       "      <th>user_turn_id</th>\n",
       "      <th>entity_total_nb</th>\n",
       "      <th>from_city_nb</th>\n",
       "      <th>to_city_nb</th>\n",
       "      <th>from_date_nb</th>\n",
       "      <th>to_date_nb</th>\n",
       "      <th>budget_nb</th>\n",
       "      <th>text_word_nb</th>\n",
       "    </tr>\n",
       "  </thead>\n",
       "  <tbody>\n",
       "    <tr>\n",
       "      <th>count</th>\n",
       "      <td>33.0</td>\n",
       "      <td>33.0</td>\n",
       "      <td>33.000000</td>\n",
       "      <td>33.000000</td>\n",
       "      <td>33.0</td>\n",
       "      <td>33.0</td>\n",
       "      <td>33.0</td>\n",
       "      <td>33.000000</td>\n",
       "    </tr>\n",
       "    <tr>\n",
       "      <th>mean</th>\n",
       "      <td>0.0</td>\n",
       "      <td>5.0</td>\n",
       "      <td>1.030303</td>\n",
       "      <td>0.969697</td>\n",
       "      <td>1.0</td>\n",
       "      <td>1.0</td>\n",
       "      <td>1.0</td>\n",
       "      <td>28.636364</td>\n",
       "    </tr>\n",
       "    <tr>\n",
       "      <th>std</th>\n",
       "      <td>0.0</td>\n",
       "      <td>0.0</td>\n",
       "      <td>0.174078</td>\n",
       "      <td>0.174078</td>\n",
       "      <td>0.0</td>\n",
       "      <td>0.0</td>\n",
       "      <td>0.0</td>\n",
       "      <td>14.439136</td>\n",
       "    </tr>\n",
       "    <tr>\n",
       "      <th>min</th>\n",
       "      <td>0.0</td>\n",
       "      <td>5.0</td>\n",
       "      <td>1.000000</td>\n",
       "      <td>0.000000</td>\n",
       "      <td>1.0</td>\n",
       "      <td>1.0</td>\n",
       "      <td>1.0</td>\n",
       "      <td>8.000000</td>\n",
       "    </tr>\n",
       "    <tr>\n",
       "      <th>25%</th>\n",
       "      <td>0.0</td>\n",
       "      <td>5.0</td>\n",
       "      <td>1.000000</td>\n",
       "      <td>1.000000</td>\n",
       "      <td>1.0</td>\n",
       "      <td>1.0</td>\n",
       "      <td>1.0</td>\n",
       "      <td>19.000000</td>\n",
       "    </tr>\n",
       "    <tr>\n",
       "      <th>50%</th>\n",
       "      <td>0.0</td>\n",
       "      <td>5.0</td>\n",
       "      <td>1.000000</td>\n",
       "      <td>1.000000</td>\n",
       "      <td>1.0</td>\n",
       "      <td>1.0</td>\n",
       "      <td>1.0</td>\n",
       "      <td>26.000000</td>\n",
       "    </tr>\n",
       "    <tr>\n",
       "      <th>75%</th>\n",
       "      <td>0.0</td>\n",
       "      <td>5.0</td>\n",
       "      <td>1.000000</td>\n",
       "      <td>1.000000</td>\n",
       "      <td>1.0</td>\n",
       "      <td>1.0</td>\n",
       "      <td>1.0</td>\n",
       "      <td>35.000000</td>\n",
       "    </tr>\n",
       "    <tr>\n",
       "      <th>max</th>\n",
       "      <td>0.0</td>\n",
       "      <td>5.0</td>\n",
       "      <td>2.000000</td>\n",
       "      <td>1.000000</td>\n",
       "      <td>1.0</td>\n",
       "      <td>1.0</td>\n",
       "      <td>1.0</td>\n",
       "      <td>69.000000</td>\n",
       "    </tr>\n",
       "  </tbody>\n",
       "</table>\n",
       "</div>"
      ],
      "text/plain": [
       "       user_turn_id  entity_total_nb  from_city_nb  to_city_nb  from_date_nb  \\\n",
       "count          33.0             33.0     33.000000   33.000000          33.0   \n",
       "mean            0.0              5.0      1.030303    0.969697           1.0   \n",
       "std             0.0              0.0      0.174078    0.174078           0.0   \n",
       "min             0.0              5.0      1.000000    0.000000           1.0   \n",
       "25%             0.0              5.0      1.000000    1.000000           1.0   \n",
       "50%             0.0              5.0      1.000000    1.000000           1.0   \n",
       "75%             0.0              5.0      1.000000    1.000000           1.0   \n",
       "max             0.0              5.0      2.000000    1.000000           1.0   \n",
       "\n",
       "       to_date_nb  budget_nb  text_word_nb  \n",
       "count        33.0       33.0     33.000000  \n",
       "mean          1.0        1.0     28.636364  \n",
       "std           0.0        0.0     14.439136  \n",
       "min           1.0        1.0      8.000000  \n",
       "25%           1.0        1.0     19.000000  \n",
       "50%           1.0        1.0     26.000000  \n",
       "75%           1.0        1.0     35.000000  \n",
       "max           1.0        1.0     69.000000  "
      ]
     },
     "execution_count": 23,
     "metadata": {},
     "output_type": "execute_result"
    }
   ],
   "source": [
    "df[df['entity_total_nb']==5].describe()"
   ]
  },
  {
   "cell_type": "code",
   "execution_count": 24,
   "metadata": {},
   "outputs": [],
   "source": [
    "# On échantillonne 67 individus au hazard pour arriver à 100\n",
    "# On choisit ceux qui ne sont pas 'None'\n",
    "nb = 167\n",
    "df_tmp = df[(df[\"intent\"] == \"ReserverVoyage\") & \n",
    "            (df[\"entity_total_nb\"] < len(label_to_entity)) & \n",
    "            (df[\"entity_total_nb\"] > 0)]\n",
    "df_tmp = df_tmp.sample(n=nb, random_state=42)"
   ]
  },
  {
   "cell_type": "code",
   "execution_count": 25,
   "metadata": {},
   "outputs": [
    {
     "data": {
      "text/html": [
       "<div>\n",
       "<style scoped>\n",
       "    .dataframe tbody tr th:only-of-type {\n",
       "        vertical-align: middle;\n",
       "    }\n",
       "\n",
       "    .dataframe tbody tr th {\n",
       "        vertical-align: top;\n",
       "    }\n",
       "\n",
       "    .dataframe thead th {\n",
       "        text-align: right;\n",
       "    }\n",
       "</style>\n",
       "<table border=\"1\" class=\"dataframe\">\n",
       "  <thead>\n",
       "    <tr style=\"text-align: right;\">\n",
       "      <th></th>\n",
       "      <th>user_turn_id</th>\n",
       "      <th>text</th>\n",
       "      <th>intent</th>\n",
       "      <th>entities</th>\n",
       "      <th>entity_total_nb</th>\n",
       "      <th>from_city_nb</th>\n",
       "      <th>to_city_nb</th>\n",
       "      <th>from_date_nb</th>\n",
       "      <th>to_date_nb</th>\n",
       "      <th>budget_nb</th>\n",
       "      <th>text_word_nb</th>\n",
       "    </tr>\n",
       "  </thead>\n",
       "  <tbody>\n",
       "    <tr>\n",
       "      <th>1070</th>\n",
       "      <td>0</td>\n",
       "      <td>Hi. i need to get to cairo on the low\\nkeep it...</td>\n",
       "      <td>ReserverVoyage</td>\n",
       "      <td>[{'entity': 'to_city', 'startPos': 21, 'endPos...</td>\n",
       "      <td>2</td>\n",
       "      <td>1</td>\n",
       "      <td>1</td>\n",
       "      <td>0</td>\n",
       "      <td>0</td>\n",
       "      <td>0</td>\n",
       "      <td>28</td>\n",
       "    </tr>\n",
       "    <tr>\n",
       "      <th>1192</th>\n",
       "      <td>0</td>\n",
       "      <td>Need to go to Vancouver</td>\n",
       "      <td>ReserverVoyage</td>\n",
       "      <td>[{'entity': 'to_city', 'startPos': 14, 'endPos...</td>\n",
       "      <td>1</td>\n",
       "      <td>0</td>\n",
       "      <td>1</td>\n",
       "      <td>0</td>\n",
       "      <td>0</td>\n",
       "      <td>0</td>\n",
       "      <td>5</td>\n",
       "    </tr>\n",
       "    <tr>\n",
       "      <th>1362</th>\n",
       "      <td>0</td>\n",
       "      <td>Hey, I need to get back home to Milan!</td>\n",
       "      <td>ReserverVoyage</td>\n",
       "      <td>[{'entity': 'to_city', 'startPos': 32, 'endPos...</td>\n",
       "      <td>1</td>\n",
       "      <td>0</td>\n",
       "      <td>1</td>\n",
       "      <td>0</td>\n",
       "      <td>0</td>\n",
       "      <td>0</td>\n",
       "      <td>9</td>\n",
       "    </tr>\n",
       "    <tr>\n",
       "      <th>1269</th>\n",
       "      <td>0</td>\n",
       "      <td>Minneapolis to Punta Cana</td>\n",
       "      <td>ReserverVoyage</td>\n",
       "      <td>[{'entity': 'from_city', 'startPos': 0, 'endPo...</td>\n",
       "      <td>2</td>\n",
       "      <td>1</td>\n",
       "      <td>1</td>\n",
       "      <td>0</td>\n",
       "      <td>0</td>\n",
       "      <td>0</td>\n",
       "      <td>4</td>\n",
       "    </tr>\n",
       "    <tr>\n",
       "      <th>958</th>\n",
       "      <td>0</td>\n",
       "      <td>santiago to burlington, go!</td>\n",
       "      <td>ReserverVoyage</td>\n",
       "      <td>[{'entity': 'from_city', 'startPos': 0, 'endPo...</td>\n",
       "      <td>2</td>\n",
       "      <td>1</td>\n",
       "      <td>1</td>\n",
       "      <td>0</td>\n",
       "      <td>0</td>\n",
       "      <td>0</td>\n",
       "      <td>4</td>\n",
       "    </tr>\n",
       "  </tbody>\n",
       "</table>\n",
       "</div>"
      ],
      "text/plain": [
       "      user_turn_id                                               text  \\\n",
       "1070             0  Hi. i need to get to cairo on the low\\nkeep it...   \n",
       "1192             0                            Need to go to Vancouver   \n",
       "1362             0             Hey, I need to get back home to Milan!   \n",
       "1269             0                          Minneapolis to Punta Cana   \n",
       "958              0                        santiago to burlington, go!   \n",
       "\n",
       "              intent                                           entities  \\\n",
       "1070  ReserverVoyage  [{'entity': 'to_city', 'startPos': 21, 'endPos...   \n",
       "1192  ReserverVoyage  [{'entity': 'to_city', 'startPos': 14, 'endPos...   \n",
       "1362  ReserverVoyage  [{'entity': 'to_city', 'startPos': 32, 'endPos...   \n",
       "1269  ReserverVoyage  [{'entity': 'from_city', 'startPos': 0, 'endPo...   \n",
       "958   ReserverVoyage  [{'entity': 'from_city', 'startPos': 0, 'endPo...   \n",
       "\n",
       "      entity_total_nb  from_city_nb  to_city_nb  from_date_nb  to_date_nb  \\\n",
       "1070                2             1           1             0           0   \n",
       "1192                1             0           1             0           0   \n",
       "1362                1             0           1             0           0   \n",
       "1269                2             1           1             0           0   \n",
       "958                 2             1           1             0           0   \n",
       "\n",
       "      budget_nb  text_word_nb  \n",
       "1070          0            28  \n",
       "1192          0             5  \n",
       "1362          0             9  \n",
       "1269          0             4  \n",
       "958           0             4  "
      ]
     },
     "execution_count": 25,
     "metadata": {},
     "output_type": "execute_result"
    }
   ],
   "source": [
    "df_tmp.head()"
   ]
  },
  {
   "cell_type": "markdown",
   "metadata": {},
   "source": [
    "Consturisons le df final avec les énoncés appartenant aux deux intentions 'book_flight' et 'None'"
   ]
  },
  {
   "cell_type": "code",
   "execution_count": 26,
   "metadata": {},
   "outputs": [],
   "source": [
    "df_utterances=pd.concat([df[df['entity_total_nb']==5],\n",
    "                     df_tmp,\n",
    "                     df[df[\"intent\"] == \"None\"]\n",
    "                    ])"
   ]
  },
  {
   "cell_type": "code",
   "execution_count": 27,
   "metadata": {},
   "outputs": [
    {
     "data": {
      "text/plain": [
       "ReserverVoyage    200\n",
       "None               69\n",
       "Name: intent, dtype: int64"
      ]
     },
     "execution_count": 27,
     "metadata": {},
     "output_type": "execute_result"
    }
   ],
   "source": [
    "df_utterances['intent'].value_counts()"
   ]
  },
  {
   "cell_type": "markdown",
   "metadata": {},
   "source": [
    "## Separer train/test"
   ]
  },
  {
   "cell_type": "code",
   "execution_count": 28,
   "metadata": {},
   "outputs": [],
   "source": [
    "df_train = df_utterances.sample(frac=0.7, random_state=42)\n",
    "df_test = df_utterances.drop(df_train.index)"
   ]
  },
  {
   "cell_type": "code",
   "execution_count": 29,
   "metadata": {},
   "outputs": [
    {
     "name": "stdout",
     "output_type": "stream",
     "text": [
      "[142, 46]\n",
      "[58, 23]\n"
     ]
    }
   ],
   "source": [
    "print(df_train[\"intent\"].value_counts().tolist())\n",
    "print(df_test[\"intent\"].value_counts().tolist())"
   ]
  },
  {
   "cell_type": "markdown",
   "metadata": {},
   "source": [
    "### Transofrmer les df finaux en format LUIS (list of dictionnaires)\n",
    "\n",
    "[Voir les détails pour le modèle de donnée en format batch d'entrainement](https://docs.microsoft.com/en-us/azure/cognitive-services/luis/luis-how-to-batch-test?tabs=portal#batch-syntax-template-for-intents-with-entities)"
   ]
  },
  {
   "cell_type": "code",
   "execution_count": 30,
   "metadata": {},
   "outputs": [],
   "source": [
    "utterances_train = df_train[[\"text\", \"intent\", \"entities\"]].to_dict(\"records\")\n",
    "\n",
    "utterances_test = df_test[[\"text\", \"intent\", \"entities\"]].to_dict(\"records\")\n",
    "utterances_test = {\n",
    "    \"LabeledTestSetUtterances\": utterances_test\n",
    "}"
   ]
  },
  {
   "cell_type": "code",
   "execution_count": 35,
   "metadata": {},
   "outputs": [],
   "source": [
    "# save utterances_test for manual batch test in portal\n",
    "path = './00_data/datasets/'\n",
    "with open(path + \"utterances_train.json\", \"w\") as outfile:\n",
    "    json.dump(utterances_train, outfile)\n",
    "\n",
    "with open(path + \"utterances_test.json\", \"w\") as outfile:\n",
    "    json.dump(utterances_test, outfile)"
   ]
  },
  {
   "cell_type": "markdown",
   "metadata": {},
   "source": [
    "##### register dataset to azure workspace"
   ]
  },
  {
   "cell_type": "code",
   "execution_count": null,
   "metadata": {},
   "outputs": [],
   "source": [
    "# see azure helper for more details on this one, it gets default folder\n",
    "path_in_datastore = 'utterances'\n",
    "azure_helper.upload_and_register_datasets(ds_path=path_in_datastore)"
   ]
  },
  {
   "cell_type": "markdown",
   "metadata": {},
   "source": [
    "### Train  the model"
   ]
  },
  {
   "cell_type": "code",
   "execution_count": 57,
   "metadata": {},
   "outputs": [],
   "source": [
    "# download actual parameters\n",
    "latest_v = get_latest_version(get_luis_env)\n",
    "get_p = get_params(get_luis_env, latest_v)"
   ]
  },
  {
   "cell_type": "markdown",
   "metadata": {},
   "source": [
    "##### - Load new utterances"
   ]
  },
  {
   "cell_type": "code",
   "execution_count": 61,
   "metadata": {},
   "outputs": [],
   "source": [
    "# increment version number\n",
    "versionId_next = str(round(float(latest_v) + 0.1,1))\n",
    "# by adding utterrances, it will append it to current params['utterances']\n",
    "create_new_version(get_luis_env, versionId_next, get_p, utterances_train)"
   ]
  },
  {
   "cell_type": "markdown",
   "metadata": {},
   "source": [
    "##### - Train the model"
   ]
  },
  {
   "cell_type": "code",
   "execution_count": 62,
   "metadata": {},
   "outputs": [
    {
     "name": "stdout",
     "output_type": "stream",
     "text": [
      "trained\n"
     ]
    }
   ],
   "source": [
    "train_luis(get_luis_env, versionId)"
   ]
  },
  {
   "cell_type": "markdown",
   "metadata": {},
   "source": [
    "##### - Deploy the model"
   ]
  },
  {
   "cell_type": "code",
   "execution_count": 63,
   "metadata": {},
   "outputs": [
    {
     "name": "stdout",
     "output_type": "stream",
     "text": [
      "None\n"
     ]
    }
   ],
   "source": [
    "url = deploy_luis(get_luis_env, versionId, is_staging=True)\n",
    "print(url)\n",
    "# client.apps.update_settings(get_luis_env.LUIS_APP_ID, is_public=True)\n",
    "# responseEndpointInfo = client.apps.publish(get_luis_env.LUIS_APP_ID, \n",
    "#                                            versionId, \n",
    "#                                            is_staging=True)"
   ]
  },
  {
   "cell_type": "markdown",
   "metadata": {},
   "source": [
    "##### - evaluate the model"
   ]
  },
  {
   "cell_type": "code",
   "execution_count": null,
   "metadata": {},
   "outputs": [],
   "source": [
    "# On envoie la requête permettant de lancer l'évaluation\n",
    "res = evaluate(get_luis_env, True, utterances_test)\n",
    "print(res)"
   ]
  },
  {
   "cell_type": "markdown",
   "metadata": {},
   "source": [
    "Pour chaque intent et chaque entity, on obtient 3 scores :\n",
    "- `precision` : parmi les labels prédit sur chaque mot, indique lesquels sont corrects.\n",
    "- `recall` : parmi les labels à détecter, indique lesquels ont été détectés par le modèle.\n",
    "- `f_score` : moyenne harmonique de la precision et du recall."
   ]
  },
  {
   "cell_type": "markdown",
   "metadata": {},
   "source": [
    "##### - get prediction"
   ]
  },
  {
   "cell_type": "code",
   "execution_count": null,
   "metadata": {},
   "outputs": [],
   "source": [
    "text = 'I want to book a flight from paris to marseille'\n",
    "res = get_prediction_luis(get_luis_env,'',text)\n",
    "print(res)"
   ]
  },
  {
   "cell_type": "markdown",
   "metadata": {},
   "source": [
    "##### - Delete temporary model"
   ]
  },
  {
   "cell_type": "code",
   "execution_count": null,
   "metadata": {},
   "outputs": [],
   "source": [
    "delete_luis(get_luis_env, versionId)"
   ]
  },
  {
   "cell_type": "markdown",
   "metadata": {},
   "source": [
    "### Push the code to GitHub"
   ]
  },
  {
   "cell_type": "markdown",
   "metadata": {},
   "source": [
    "A LUIS app learns and performs most efficiently when you iteratively develop it. Here's a typical iteration cycle:\n",
    "\n",
    "Create a new version\n",
    "Edit the LUIS app schema. This includes:\n",
    "Intents with example utterances\n",
    "Entities\n",
    "Features\n",
    "Train, test, and publish\n",
    "Test for active learning by reviewing utterances sent to the prediction endpoint\n",
    "Gather data from endpoint queries\n",
    "\n"
   ]
  },
  {
   "cell_type": "code",
   "execution_count": null,
   "metadata": {},
   "outputs": [],
   "source": []
  }
 ],
 "metadata": {
  "interpreter": {
   "hash": "4aef0abd0cf9fe88b72216519e62470d55f17565616a27bbd8eb3abf8371085d"
  },
  "kernelspec": {
   "display_name": "Python 3.8.8 ('p10')",
   "language": "python",
   "name": "python3"
  },
  "language_info": {
   "codemirror_mode": {
    "name": "ipython",
    "version": 3
   },
   "file_extension": ".py",
   "mimetype": "text/x-python",
   "name": "python",
   "nbconvert_exporter": "python",
   "pygments_lexer": "ipython3",
   "version": "3.8.8"
  },
  "orig_nbformat": 4
 },
 "nbformat": 4,
 "nbformat_minor": 2
}
